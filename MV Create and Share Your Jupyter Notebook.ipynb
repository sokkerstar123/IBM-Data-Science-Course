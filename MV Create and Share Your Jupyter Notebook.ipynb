{
    "cells": [
        {
            "cell_type": "markdown",
            "metadata": {},
            "source": "# My Jupyter Notebook on IBM Watson Studio"
        },
        {
            "cell_type": "markdown",
            "metadata": {},
            "source": "**Matthew Vue** <br>\nInformaticist"
        },
        {
            "cell_type": "markdown",
            "metadata": {},
            "source": "*I am interested in Data Science because it is a constantly evolving field that challenges me.*"
        },
        {
            "cell_type": "markdown",
            "metadata": {},
            "source": "### The following code calculates the square of a number"
        },
        {
            "cell_type": "code",
            "execution_count": 12,
            "metadata": {},
            "outputs": [
                {
                    "data": {
                        "text/plain": "49"
                    },
                    "execution_count": 12,
                    "metadata": {},
                    "output_type": "execute_result"
                }
            ],
            "source": "def square(n):\n    return n**2\n\nsquare(7)"
        },
        {
            "cell_type": "markdown",
            "metadata": {},
            "source": "---\n\n<ul>\n  <li>A</li>\n  <li>B</li>\n  <li>C</li>\n  <li>D</li>\n</ul>\n\n<ol>\n  <li>Item One</li>\n  <li>Item Two</li>\n  <li>Item Three</li>\n  <li>Item Four</li>\n</ol>"
        },
        {
            "cell_type": "markdown",
            "metadata": {},
            "source": "| First Inital | Last Initial | Occupation |\n| ----------- | ----------- | ----------- |\n| M | V | Informaticist"
        }
    ],
    "metadata": {
        "kernelspec": {
            "display_name": "Python 3.9",
            "language": "python",
            "name": "python3"
        },
        "language_info": {
            "codemirror_mode": {
                "name": "ipython",
                "version": 3
            },
            "file_extension": ".py",
            "mimetype": "text/x-python",
            "name": "python",
            "nbconvert_exporter": "python",
            "pygments_lexer": "ipython3",
            "version": "3.9.12"
        }
    },
    "nbformat": 4,
    "nbformat_minor": 1
}